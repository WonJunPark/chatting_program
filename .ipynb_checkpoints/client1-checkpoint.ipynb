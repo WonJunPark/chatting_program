{
 "cells": [
  {
   "cell_type": "code",
   "execution_count": 2,
   "metadata": {
    "collapsed": true
   },
   "outputs": [],
   "source": [
    "from socket import *"
   ]
  },
  {
   "cell_type": "code",
   "execution_count": 3,
   "metadata": {
    "collapsed": false
   },
   "outputs": [
    {
     "name": "stdout",
     "output_type": "stream",
     "text": [
      "접속 완료\n"
     ]
    }
   ],
   "source": [
    "clientSock = socket(AF_INET, SOCK_STREAM)\n",
    "clientSock.connect(('127.0.0.1',8080))\n",
    "print('접속 완료')"
   ]
  },
  {
   "cell_type": "code",
   "execution_count": null,
   "metadata": {
    "collapsed": false
   },
   "outputs": [
    {
     "name": "stdout",
     "output_type": "stream",
     "text": [
      "상대방 :  ㅎㅇ\n",
      ">>>안녕하세요\n",
      "상대방 :  요르레이히\n",
      ">>>ㅋㅋㅋㅋㅋㅋ\n"
     ]
    }
   ],
   "source": [
    "while True:\n",
    "    recvData = clientSock.recv(1024)\n",
    "    print('상대방 : ',recvData.decode('utf-8'))\n",
    "    \n",
    "    sendData = input('>>>')\n",
    "    clientSock.send(sendData.encode('utf-8'))"
   ]
  },
  {
   "cell_type": "code",
   "execution_count": null,
   "metadata": {
    "collapsed": true
   },
   "outputs": [],
   "source": []
  },
  {
   "cell_type": "code",
   "execution_count": null,
   "metadata": {
    "collapsed": true
   },
   "outputs": [],
   "source": []
  },
  {
   "cell_type": "code",
   "execution_count": null,
   "metadata": {
    "collapsed": true
   },
   "outputs": [],
   "source": []
  }
 ],
 "metadata": {
  "anaconda-cloud": {},
  "kernelspec": {
   "display_name": "Python [conda root]",
   "language": "python",
   "name": "conda-root-py"
  },
  "language_info": {
   "codemirror_mode": {
    "name": "ipython",
    "version": 3
   },
   "file_extension": ".py",
   "mimetype": "text/x-python",
   "name": "python",
   "nbconvert_exporter": "python",
   "pygments_lexer": "ipython3",
   "version": "3.5.2"
  }
 },
 "nbformat": 4,
 "nbformat_minor": 1
}
