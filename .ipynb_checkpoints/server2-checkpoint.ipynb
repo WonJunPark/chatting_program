{
 "cells": [
  {
   "cell_type": "code",
   "execution_count": 1,
   "metadata": {
    "collapsed": true
   },
   "outputs": [],
   "source": [
    "from socket import*\n",
    "import threading\n",
    "import time"
   ]
  },
  {
   "cell_type": "code",
   "execution_count": 2,
   "metadata": {
    "collapsed": true
   },
   "outputs": [],
   "source": [
    "def send(sock):\n",
    "    while True:\n",
    "        sendData = input('>>>')\n",
    "        sock.send(sendData.encode('utf-8'))"
   ]
  },
  {
   "cell_type": "code",
   "execution_count": 3,
   "metadata": {
    "collapsed": true
   },
   "outputs": [],
   "source": [
    "def receive(sock):\n",
    "    while True:\n",
    "        recvData = sock.recv(1024)\n",
    "        print('원준 :', recvData.decode('utf-8'))"
   ]
  },
  {
   "cell_type": "code",
   "execution_count": 4,
   "metadata": {
    "collapsed": false
   },
   "outputs": [
    {
     "name": "stdout",
     "output_type": "stream",
     "text": [
      "8081번 포트로 접속 대기중...\n"
     ]
    }
   ],
   "source": [
    "port = 8081\n",
    "\n",
    "serverSock = socket(AF_INET, SOCK_STREAM)\n",
    "serverSock.bind(('',port))\n",
    "serverSock.listen(1)\n",
    "print('%d번 포트로 접속 대기중...'%port)"
   ]
  },
  {
   "cell_type": "code",
   "execution_count": 5,
   "metadata": {
    "collapsed": true
   },
   "outputs": [],
   "source": [
    "connectionSock, addr = serverSock.accept()"
   ]
  },
  {
   "cell_type": "code",
   "execution_count": 6,
   "metadata": {
    "collapsed": true
   },
   "outputs": [],
   "source": [
    "sender = threading.Thread(target=send,args=(connectionSock,))\n",
    "receiver = threading.Thread(target=receive,args=(connectionSock,))"
   ]
  },
  {
   "cell_type": "code",
   "execution_count": null,
   "metadata": {
    "collapsed": false
   },
   "outputs": [
    {
     "name": "stdout",
     "output_type": "stream",
     "text": [
      "원준 : 만들고있어!!\n",
      "원준 : 이따 보여줄겡!!\n",
      ">>>응응\n",
      ">>>기대된단\n",
      ">>>ㅋㅋㅋㅋㅋㅋㅋ\n"
     ]
    }
   ],
   "source": [
    "sender.start()\n",
    "receiver.start()\n",
    "while True:\n",
    "    time.sleep(1)\n",
    "    pass"
   ]
  }
 ],
 "metadata": {
  "anaconda-cloud": {},
  "kernelspec": {
   "display_name": "Python [conda root]",
   "language": "python",
   "name": "conda-root-py"
  },
  "language_info": {
   "codemirror_mode": {
    "name": "ipython",
    "version": 3
   },
   "file_extension": ".py",
   "mimetype": "text/x-python",
   "name": "python",
   "nbconvert_exporter": "python",
   "pygments_lexer": "ipython3",
   "version": "3.5.2"
  }
 },
 "nbformat": 4,
 "nbformat_minor": 1
}
