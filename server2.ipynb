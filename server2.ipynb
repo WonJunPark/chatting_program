{
 "cells": [
  {
   "cell_type": "code",
   "execution_count": 4,
   "metadata": {
    "collapsed": true
   },
   "outputs": [],
   "source": [
    "from socket import*\n",
    "import threading\n",
    "import time"
   ]
  },
  {
   "cell_type": "code",
   "execution_count": 5,
   "metadata": {
    "collapsed": true
   },
   "outputs": [],
   "source": [
    "def send(sock):\n",
    "    while True:\n",
    "        sendData = input('>>>')\n",
    "        sock.send(sendData.encode('utf-8'))"
   ]
  },
  {
   "cell_type": "code",
   "execution_count": 6,
   "metadata": {
    "collapsed": true
   },
   "outputs": [],
   "source": [
    "def receive(sock):\n",
    "    while True:\n",
    "        recvData = sock.recv(1024)\n",
    "        print('원준 :', recvData.decode('utf-8'))"
   ]
  },
  {
   "cell_type": "code",
   "execution_count": 7,
   "metadata": {
    "collapsed": false
   },
   "outputs": [
    {
     "name": "stdout",
     "output_type": "stream",
     "text": [
      "8081번 포트로 접속 대기중...\n"
     ]
    }
   ],
   "source": [
    "port = 8081\n",
    "\n",
    "serverSock = socket(AF_INET, SOCK_STREAM)\n",
    "serverSock.bind(('',port))\n",
    "serverSock.listen(1)\n",
    "print('%d번 포트로 접속 대기중...'%port)"
   ]
  },
  {
   "cell_type": "code",
   "execution_count": 9,
   "metadata": {
    "collapsed": false
   },
   "outputs": [
    {
     "name": "stdout",
     "output_type": "stream",
     "text": [
      "<socket.socket fd=188, family=AddressFamily.AF_INET, type=SocketKind.SOCK_STREAM, proto=0, laddr=('127.0.0.1', 8081), raddr=('127.0.0.1', 65239)>\n"
     ]
    }
   ],
   "source": [
    "connectionSock, addr = serverSock.accept()\n",
    "print(connectionSock)"
   ]
  },
  {
   "cell_type": "code",
   "execution_count": 10,
   "metadata": {
    "collapsed": false
   },
   "outputs": [],
   "source": [
    "sender = threading.Thread(target=send,args=(connectionSock,))\n",
    "receiver = threading.Thread(target=receive,args=(connectionSock,))"
   ]
  },
  {
   "cell_type": "code",
   "execution_count": null,
   "metadata": {
    "collapsed": false
   },
   "outputs": [],
   "source": [
    "sender.start()\n",
    "receiver.start()\n",
    "while True:\n",
    "    time.sleep(1)\n",
    "    pass"
   ]
  }
 ],
 "metadata": {
  "anaconda-cloud": {},
  "kernelspec": {
   "display_name": "Python [conda root]",
   "language": "python",
   "name": "conda-root-py"
  },
  "language_info": {
   "codemirror_mode": {
    "name": "ipython",
    "version": 3
   },
   "file_extension": ".py",
   "mimetype": "text/x-python",
   "name": "python",
   "nbconvert_exporter": "python",
   "pygments_lexer": "ipython3",
   "version": "3.5.2"
  }
 },
 "nbformat": 4,
 "nbformat_minor": 1
}
